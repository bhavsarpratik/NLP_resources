{
 "cells": [
  {
   "cell_type": "markdown",
   "metadata": {
    "collapsed": true,
    "deletable": true,
    "editable": true
   },
   "source": [
    "## New documentation is in progress\n",
    "## Link to old documentation on WaybackMachine\n",
    "## https://web.archive.org/web/20151025005315/http://spacy.io/docs/"
   ]
  },
  {
   "cell_type": "code",
   "execution_count": 1,
   "metadata": {
    "collapsed": true,
    "deletable": true,
    "editable": true
   },
   "outputs": [],
   "source": [
    "from spacy.en import English\n",
    "parser = English()"
   ]
  },
  {
   "cell_type": "code",
   "execution_count": 2,
   "metadata": {
    "collapsed": true,
    "deletable": true,
    "editable": true
   },
   "outputs": [],
   "source": [
    "def show_ents(text):\n",
    "    \n",
    "    print(\"Showing by token ....\")\n",
    "    parsed = parser(text)\n",
    "    for token in parsed:\n",
    "        print(token.orth_, token.ent_type_)\n",
    "    print()\n",
    "    \n",
    "    print(\"Just showing the entities ....\")\n",
    "    entities = list(parsed.ents)\n",
    "    for entity in entities:\n",
    "        print(entity.label_,' '.join(t.orth_ for t in entity))\n",
    "    "
   ]
  },
  {
   "cell_type": "code",
   "execution_count": 3,
   "metadata": {
    "collapsed": false,
    "deletable": true,
    "editable": true
   },
   "outputs": [
    {
     "name": "stdout",
     "output_type": "stream",
     "text": [
      "Showing by token ....\n",
      "I \n",
      "went \n",
      "to \n",
      "New GPE\n",
      "York GPE\n",
      "City GPE\n",
      "and \n",
      "spoke \n",
      "in \n",
      "French LANGUAGE\n",
      ". \n",
      "\n",
      "Just showing the entities ....\n",
      "GPE New York City\n",
      "LANGUAGE French\n"
     ]
    }
   ],
   "source": [
    "# An example\n",
    "show_ents(\"I went to New York City and spoke in French.\")"
   ]
  },
  {
   "cell_type": "code",
   "execution_count": 4,
   "metadata": {
    "collapsed": false,
    "deletable": true,
    "editable": true
   },
   "outputs": [
    {
     "name": "stdout",
     "output_type": "stream",
     "text": [
      "Showing by token ....\n",
      "I \n",
      "paid \n",
      "$ \n",
      "50 MONEY\n",
      "and \n",
      "50 \n",
      "dollars \n",
      "on \n",
      "March DATE\n",
      "12 DATE\n",
      ", DATE\n",
      "2016 DATE\n",
      "\n",
      "Just showing the entities ....\n",
      "MONEY 50\n",
      "DATE March 12 , 2016\n"
     ]
    }
   ],
   "source": [
    "# Another example\n",
    "show_ents(\"I paid $50 and 50 dollars on March 12, 2016\")"
   ]
  },
  {
   "cell_type": "code",
   "execution_count": 5,
   "metadata": {
    "collapsed": false,
    "deletable": true,
    "editable": true
   },
   "outputs": [
    {
     "name": "stdout",
     "output_type": "stream",
     "text": [
      "Showing by token ....\n",
      "I \n",
      "spoke \n",
      "German NORP\n",
      "at \n",
      "Mt. LOC\n",
      "Everest LOC\n",
      ". \n",
      "\n",
      "Just showing the entities ....\n",
      "NORP German\n",
      "LOC Mt. Everest\n"
     ]
    }
   ],
   "source": [
    "# Another example, with an error. German is not listed as a language, but a group\n",
    "show_ents(\"I spoke German at Mt. Everest.\")"
   ]
  },
  {
   "cell_type": "code",
   "execution_count": 6,
   "metadata": {
    "collapsed": true,
    "deletable": true,
    "editable": true
   },
   "outputs": [],
   "source": [
    "#I O B format\n",
    "def show_ent_IOB(text):\n",
    "    parsed = parser(text)\n",
    "    for token in parsed:\n",
    "        print(token.orth_, token.ent_type_, token.ent_iob_)\n",
    "    "
   ]
  },
  {
   "cell_type": "code",
   "execution_count": 7,
   "metadata": {
    "collapsed": false,
    "deletable": true,
    "editable": true
   },
   "outputs": [
    {
     "name": "stdout",
     "output_type": "stream",
     "text": [
      "I  O\n",
      "went  O\n",
      "to  O\n",
      "New GPE B\n",
      "Orleans GPE I\n",
      "to  O\n",
      "speak  O\n",
      "French LANGUAGE B\n",
      ".  O\n"
     ]
    }
   ],
   "source": [
    "# Note that 'New' has B for begin and 'Orleans' has 'I' for inside.\n",
    "show_ent_IOB(\"I went to New Orleans to speak French.\")"
   ]
  }
 ],
 "metadata": {
  "kernelspec": {
   "display_name": "Python 3",
   "language": "python",
   "name": "python3"
  },
  "language_info": {
   "codemirror_mode": {
    "name": "ipython",
    "version": 3
   },
   "file_extension": ".py",
   "mimetype": "text/x-python",
   "name": "python",
   "nbconvert_exporter": "python",
   "pygments_lexer": "ipython3",
   "version": "3.5.3"
  }
 },
 "nbformat": 4,
 "nbformat_minor": 1
}
