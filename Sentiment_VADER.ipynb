{
 "cells": [
  {
   "cell_type": "markdown",
   "metadata": {
    "collapsed": true
   },
   "source": [
    "# VADER: (Valence Aware Dictionary and sEntiment Reasoner)\n",
    "\n",
    "### The best way to understand VADER is to look at the source code\n",
    "(Although it is a little unpolished) https://github.com/cjhutto/vaderSentiment\n",
    "\n",
    "Also see the actual dictionary at https://github.com/cjhutto/vaderSentiment/blob/master/vaderSentiment/vader_sentiment_lexicon.txt.\n",
    "\n",
    "You can install the code using `pip install vaderSentiment` but it might be better to download it so you can more easily modify it.\n",
    "\n",
    "### VADER doesn't run in Python 3 because of line 23 in vaderSentiment.py\n",
    "See issue 11 for a fix: https://github.com/cjhutto/vaderSentiment/issues/11"
   ]
  },
  {
   "cell_type": "code",
   "execution_count": 1,
   "metadata": {
    "collapsed": true
   },
   "outputs": [],
   "source": [
    "# You have to do this weird import in iPython notebook (Jupyter)\n",
    "# because of the line \"reload(sys)\" in vaderSentiment.py\n",
    "# See issue 7 for a simple fix: https://github.com/cjhutto/vaderSentiment/issues/7\n",
    "import sys\n",
    "nb_stdout = sys.stdout\n",
    "from vaderSentiment.vaderSentiment import sentiment\n",
    "sys.stdout = nb_stdout"
   ]
  },
  {
   "cell_type": "code",
   "execution_count": 2,
   "metadata": {
    "collapsed": false
   },
   "outputs": [
    {
     "name": "stdout",
     "output_type": "stream",
     "text": [
      "{'neg': 0.0, 'neu': 1.0, 'pos': 0.0, 'compound': 0.0}\n"
     ]
    }
   ],
   "source": [
    "# A statement without sentiment\n",
    "print(sentiment('Bob is a man.'))"
   ]
  },
  {
   "cell_type": "code",
   "execution_count": 3,
   "metadata": {
    "collapsed": false
   },
   "outputs": [
    {
     "name": "stdout",
     "output_type": "stream",
     "text": [
      "{'neg': 0.289, 'neu': 0.398, 'pos': 0.313, 'compound': -0.128}\n"
     ]
    }
   ],
   "source": [
    "# Note that this sentiment score is actually slightly negative\n",
    "print(sentiment('I loved the color but hated the weight. I guess it was good.'))"
   ]
  },
  {
   "cell_type": "code",
   "execution_count": 4,
   "metadata": {
    "collapsed": false
   },
   "outputs": [
    {
     "name": "stdout",
     "output_type": "stream",
     "text": [
      "{'neg': 0.0, 'neu': 0.408, 'pos': 0.592, 'compound': 0.4404}\n"
     ]
    }
   ],
   "source": [
    "# A simple positive example\n",
    "print(sentiment('It was good.'))"
   ]
  },
  {
   "cell_type": "code",
   "execution_count": 5,
   "metadata": {
    "collapsed": false
   },
   "outputs": [
    {
     "name": "stdout",
     "output_type": "stream",
     "text": [
      "{'neg': 0.0, 'neu': 0.5, 'pos': 0.5, 'compound': 0.6124}\n"
     ]
    }
   ],
   "source": [
    "print(sentiment('It was very the bomb.'))"
   ]
  },
  {
   "cell_type": "code",
   "execution_count": 6,
   "metadata": {
    "collapsed": false
   },
   "outputs": [
    {
     "name": "stdout",
     "output_type": "stream",
     "text": [
      "{'neg': 0.0, 'neu': 0.25, 'pos': 0.75, 'compound': 0.4588}\n"
     ]
    }
   ],
   "source": [
    "# It correctly captures the emoticon\n",
    "print(sentiment('I ran :)'))"
   ]
  },
  {
   "cell_type": "code",
   "execution_count": 7,
   "metadata": {
    "collapsed": false
   },
   "outputs": [
    {
     "name": "stdout",
     "output_type": "stream",
     "text": [
      "{'neg': 0.0, 'neu': 1.0, 'pos': 0.0, 'compound': 0.0}\n"
     ]
    }
   ],
   "source": [
    "# Without the emoticon, it is just a statement.\n",
    "print(sentiment('I ran.'))"
   ]
  },
  {
   "cell_type": "code",
   "execution_count": null,
   "metadata": {
    "collapsed": true
   },
   "outputs": [],
   "source": []
  }
 ],
 "metadata": {
  "kernelspec": {
   "display_name": "Python 2",
   "language": "python",
   "name": "python2"
  },
  "language_info": {
   "codemirror_mode": {
    "name": "ipython",
    "version": 2
   },
   "file_extension": ".py",
   "mimetype": "text/x-python",
   "name": "python",
   "nbconvert_exporter": "python",
   "pygments_lexer": "ipython2",
   "version": "2.7.9"
  }
 },
 "nbformat": 4,
 "nbformat_minor": 1
}
