{
 "cells": [
  {
   "cell_type": "markdown",
   "metadata": {},
   "source": [
    "# NLTK\n",
    "## Natural Language Toolkit (NLTK) is a popular Python NLP library\n",
    "\n",
    "## You can see how to install NLTK here\n",
    "http://www.nltk.org/install.html\n",
    "\n",
    "## This is the definitive source. It is also a good reference on NLP in general.\n",
    "http://www.nltk.org/book/"
   ]
  },
  {
   "cell_type": "code",
   "execution_count": 1,
   "metadata": {
    "collapsed": true
   },
   "outputs": [],
   "source": [
    "# Try this to make sure it installed correctly\n",
    "import nltk"
   ]
  },
  {
   "cell_type": "code",
   "execution_count": null,
   "metadata": {
    "collapsed": true
   },
   "outputs": [],
   "source": [
    "# Download all the data associated with NLTK (takes a while, uncomment to run)\n",
    "# nltk.download('all')"
   ]
  },
  {
   "cell_type": "code",
   "execution_count": 2,
   "metadata": {
    "collapsed": true
   },
   "outputs": [],
   "source": [
    "text = \"Mr. Smith loves tacos. He has a Ph.D. in tacology.\""
   ]
  },
  {
   "cell_type": "code",
   "execution_count": 3,
   "metadata": {
    "collapsed": false
   },
   "outputs": [
    {
     "name": "stdout",
     "output_type": "stream",
     "text": [
      "Sentence:\n",
      "Mr. Smith loves tacos.\n",
      "\n",
      "Sentence:\n",
      "He has a Ph.D. in tacology.\n",
      "\n"
     ]
    }
   ],
   "source": [
    "tokenized_sentences = nltk.sent_tokenize(text)\n",
    "for sent in tokenized_sentences:\n",
    "    print(\"Sentence:\")\n",
    "    print(sent)\n",
    "    print()"
   ]
  },
  {
   "cell_type": "markdown",
   "metadata": {},
   "source": [
    "# spaCy\n",
    "\n",
    "## spaCy is a newish Python NLP library with great features\n",
    "\n",
    "## You can see how to install spaCy here\n",
    "https://spacy.io/docs/#getting-started\n",
    "\n",
    "## The best source is the documentation\n",
    "https://spacy.io/docs/#examples"
   ]
  },
  {
   "cell_type": "code",
   "execution_count": 4,
   "metadata": {
    "collapsed": true
   },
   "outputs": [],
   "source": [
    "# Right now, spaCy is available in English and German\n",
    "from spacy.en import English\n",
    "parser = English()"
   ]
  },
  {
   "cell_type": "code",
   "execution_count": 5,
   "metadata": {
    "collapsed": false
   },
   "outputs": [
    {
     "name": "stdout",
     "output_type": "stream",
     "text": [
      "Sentence:\n",
      "Mr. Smith loves tacos.\n",
      "\n",
      "Sentence:\n",
      "He has a Ph.\n",
      "\n",
      "Sentence:\n",
      "D. in tacology.\n",
      "\n"
     ]
    }
   ],
   "source": [
    "# In Python 2.x, text needs to be converted to Unicode if it is not already\n",
    "tokens = parser(text)\n",
    "for sent in tokens.sents:\n",
    "    print(\"Sentence:\")\n",
    "    print(sent)\n",
    "    print()"
   ]
  },
  {
   "cell_type": "code",
   "execution_count": null,
   "metadata": {
    "collapsed": true
   },
   "outputs": [],
   "source": []
  }
 ],
 "metadata": {
  "kernelspec": {
   "display_name": "Python 3",
   "language": "python",
   "name": "python3"
  },
  "language_info": {
   "codemirror_mode": {
    "name": "ipython",
    "version": 3
   },
   "file_extension": ".py",
   "mimetype": "text/x-python",
   "name": "python",
   "nbconvert_exporter": "python",
   "pygments_lexer": "ipython3",
   "version": "3.5.2"
  }
 },
 "nbformat": 4,
 "nbformat_minor": 1
}
