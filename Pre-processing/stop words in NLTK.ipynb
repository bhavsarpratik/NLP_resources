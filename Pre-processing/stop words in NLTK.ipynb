{
 "cells": [
  {
   "cell_type": "code",
   "execution_count": 1,
   "metadata": {
    "collapsed": false
   },
   "outputs": [
    {
     "name": "stdout",
     "output_type": "stream",
     "text": [
      "{'and', 'nor', 'doing', 'against', 'hers', 'between', 'through', 'were', 'while', 'off', 'when', 'she', 'or', 't', 'over', 'with', 'own', 'had', 'himself', 'themselves', 'the', 'who', 'being', 'very', 'into', 'but', 'same', 'about', 'before', 'it', 'at', 'of', 'an', 'where', 'my', 'on', 'which', 'down', 'after', 'above', 'why', 'yourselves', 'no', 'itself', 'her', 'then', 'further', 'this', 'any', 'a', 'ours', 'all', 'was', 'from', 's', 'them', 'here', 'don', 'in', 'out', 'he', 'should', 'yourself', 'during', 'will', 'other', 'you', 'if', 'that', 'your', 'now', 'too', 'they', 'whom', 'i', 'their', 'each', 'what', 'we', 'his', 'these', 'to', 'herself', 'have', 'under', 'do', 'how', 'for', 'most', 'has', 'because', 'its', 'up', 'is', 'can', 'few', 'as', 'more', 'so', 'only', 'does', 'there', 'our', 'theirs', 'until', 'once', 'been', 'not', 'am', 'be', 'ourselves', 'some', 'are', 'yours', 'did', 'than', 'again', 'having', 'such', 'him', 'those', 'by', 'myself', 'both', 'below', 'just', 'me'}\n"
     ]
    }
   ],
   "source": [
    "import nltk\n",
    "english_stopwords = set(nltk.corpus.stopwords.words('english'))\n",
    "print(english_stopwords)\n",
    "# I used \"set\" because they are fast for checking membership"
   ]
  },
  {
   "cell_type": "code",
   "execution_count": 2,
   "metadata": {
    "collapsed": false
   },
   "outputs": [
    {
     "name": "stdout",
     "output_type": "stream",
     "text": [
      "{'estad', 'tendré', 'mío', 'durante', 'estaríais', 'habríais', 'tiene', 'estaré', 'tenemos', 'sean', 'al', 'muy', 'suya', 'estáis', 'serán', 'sentid', 'ni', 'habrá', 'tenías', 'sin', 'estabais', 'soy', 'serían', 'vuestros', 'estuve', 'vosostras', 'estuvieseis', 'estuvieron', 'seremos', 'mucho', 'estaba', 'vuestras', 'tuviste', 'mías', 'suyo', 'esté', 'estuviera', 'fuisteis', 'tuvierais', 'tened', 'ellas', 'seríamos', 'fui', 'te', 'tienen', 'estos', 'habrán', 'tenía', 'hubisteis', 'otro', 'nuestras', 'ese', 'todos', 'tu', 'hayan', 'estadas', 'habrías', 'estuviste', 'estén', 'habríamos', 'mi', 'estaremos', 'sintiendo', 'había', 'todo', 'habrían', 'sería', 'erais', 'poco', 'vuestro', 'no', 'será', 'tendríais', 'donde', 'estaríamos', 'tendrías', 'suyos', 'estas', 'que', 'sí', 'estás', 'tuvimos', 'yo', 'hubieseis', 'estuviese', 'son', 'les', 'tendríamos', 'estaréis', 'más', 'tengo', 'tuviesen', 'a', 'ante', 'su', 'estada', 'hubiesen', 'habremos', 'estuvierais', 'estuvieses', 'fuera', 'eras', 'algunos', 'tienes', 'se', 'seamos', 'entre', 'los', 'hayamos', 'para', 'ha', 'vosostros', 'sea', 'lo', 'estemos', 'algo', 'fuéramos', 'desde', 'hubiera', 'este', 'estarán', 'hubieras', 'tenéis', 'fueras', 'estábamos', 'estuviéramos', 'estarías', 'era', 'habré', 'tendrás', 'tendrán', 'habido', 'fueron', 'pero', 'he', 'tuviéramos', 'esas', 'otras', 'nuestra', 'eran', 'le', 'fuiste', 'estado', 'tuvieran', 'fuerais', 'fuimos', 'habíamos', 'tuvieras', 'tuvieron', 'sus', 'un', 'estar', 'mis', 'otros', 'habría', 'unos', 'estuvimos', 'estuvisteis', 'sentido', 'del', 'hubieron', 'estabas', 'hubo', 'están', 'algunas', 'hubiese', 'cuando', 'hubiéramos', 'teniendo', 'estuvo', 'tuvieseis', 'estados', 'fueses', 'hayas', 'sentida', 'tenida', 'nosotros', 'serás', 'sentidos', 'muchos', 'éramos', 'estuvieran', 'fuese', 'vuestra', 'fuesen', 'tuvo', 'fuésemos', 'hubimos', 'teníamos', 'nuestro', 'fueseis', 'tendría', 'e', 'quienes', 'habían', 'tuyos', 'en', 'tuyo', 'hemos', 'habidos', 'habiendo', 'seas', 'con', 'hasta', 'estaban', 'de', 'contra', 'ellos', 'estará', 'como', 'nos', 'tus', 'una', 'os', 'has', 'el', 'esa', 'estamos', 'han', 'hubieses', 'nada', 'habréis', 'hubierais', 'míos', 'hubiste', 'seré', 'quien', 'sobre', 'seáis', 'tengamos', 'tenga', 'estuviésemos', 'serías', 'tenidos', 'eres', 'las', 'antes', 'tuyas', 'estarás', 'habíais', 'ya', 'estando', 'sentidas', 'tendrá', 'habías', 'tuve', 'nosotras', 'y', 'es', 'mía', 'o', 'tendréis', 'tenían', 'tenido', 'seréis', 'teníais', 'habida', 'estuviesen', 'somos', 'hayáis', 'tú', 'tanto', 'hubiésemos', 'fueran', 'porque', 'estarían', 'esos', 'tuviera', 'tuviese', 'tuvieses', 'tenidas', 'cual', 'hubieran', 'estéis', 'estaría', 'por', 'ti', 'estuvieras', 'la', 'tuvisteis', 'él', 'hay', 'ella', 'estés', 'tengas', 'esta', 'hube', 'habrás', 'también', 'uno', 'tuviésemos', 'fue', 'siente', 'esto', 'tendrían', 'sois', 'otra', 'mí', 'nuestros', 'tuya', 'haya', 'está', 'tengáis', 'tendremos', 'seríais', 'qué', 'habéis', 'suyas', 'estoy', 'me', 'habidas', 'tengan', 'eso'}\n"
     ]
    }
   ],
   "source": [
    "spanish_stopwords = set(nltk.corpus.stopwords.words('spanish'))\n",
    "print(spanish_stopwords)"
   ]
  },
  {
   "cell_type": "code",
   "execution_count": 3,
   "metadata": {
    "collapsed": false
   },
   "outputs": [
    {
     "name": "stdout",
     "output_type": "stream",
     "text": [
      "['chicken', 'went', 'house', 'humiliate', 'man', '.']\n"
     ]
    }
   ],
   "source": [
    "# Here we remove stop words to get the gist of a sentence\n",
    "from nltk.tokenize import word_tokenize\n",
    "text = \"The chicken went to the house to humiliate the man.\"\n",
    "tokens = word_tokenize(text)\n",
    "content_tokens = [token for token in tokens if token.lower() not in english_stopwords]\n",
    "print(content_tokens)"
   ]
  },
  {
   "cell_type": "markdown",
   "metadata": {},
   "source": [
    "## Good time to introduce the NLP bible\n",
    "http://www.cs.colorado.edu/~martin/slp2.html\n",
    "\n",
    "## Third edition in preparation and you can read some of the chapters free online\n",
    "https://web.stanford.edu/~jurafsky/slp3/\n"
   ]
  },
  {
   "cell_type": "code",
   "execution_count": null,
   "metadata": {
    "collapsed": true
   },
   "outputs": [],
   "source": []
  }
 ],
 "metadata": {
  "kernelspec": {
   "display_name": "Python 3",
   "language": "python",
   "name": "python3"
  },
  "language_info": {
   "codemirror_mode": {
    "name": "ipython",
    "version": 3
   },
   "file_extension": ".py",
   "mimetype": "text/x-python",
   "name": "python",
   "nbconvert_exporter": "python",
   "pygments_lexer": "ipython3",
   "version": "3.5.2"
  }
 },
 "nbformat": 4,
 "nbformat_minor": 1
}
