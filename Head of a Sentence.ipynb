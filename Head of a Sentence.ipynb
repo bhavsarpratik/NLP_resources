{
 "cells": [
  {
   "cell_type": "markdown",
   "metadata": {},
   "source": [
    "## The head of a phrase dictates its structure\n",
    "\n",
    "## spaCy dependency parse visualizer\n",
    "https://demos.explosion.ai/displacy/\n",
    "\n",
    "### You can try \"She hit the wall.\" and William Safire's quote, \"You can verb anything.\"\n",
    "\n",
    "## List of part of speech tags\n",
    "https://cs.nyu.edu/grishman/jet/guide/PennPOS.html"
   ]
  },
  {
   "cell_type": "code",
   "execution_count": 1,
   "metadata": {
    "collapsed": false
   },
   "outputs": [],
   "source": [
    "# Recall that we can show the part of speech, the dependency, and the head of each token\n",
    "from spacy.en import English\n",
    "parser = English()\n",
    "def show_dep(text):\n",
    "    tokens = parser(text)\n",
    "    for token in tokens:\n",
    "        print(\" {} : {} : {} : {}\".format(token.orth_,token.pos_,token.dep_,token.head))"
   ]
  },
  {
   "cell_type": "code",
   "execution_count": 2,
   "metadata": {
    "collapsed": false
   },
   "outputs": [
    {
     "name": "stdout",
     "output_type": "stream",
     "text": [
      "token : POS : dep. : head\n",
      "-------------------------\n",
      " She : PRON : nsubj : hit\n",
      " hit : VERB : ROOT : hit\n",
      " the : DET : det : wall\n",
      " wall : NOUN : dobj : hit\n",
      " . : PUNCT : punct : hit\n"
     ]
    }
   ],
   "source": [
    "print(\"token : POS : dep. : head\")\n",
    "print(\"-------------------------\")\n",
    "show_dep(\"She hit the wall.\")"
   ]
  },
  {
   "cell_type": "code",
   "execution_count": 3,
   "metadata": {
    "collapsed": true
   },
   "outputs": [],
   "source": [
    "def get_head_of_sentence(text):\n",
    "    tokens = parser(text)\n",
    "    for token in tokens:\n",
    "        if token.head is token:\n",
    "            return token\n",
    "    return None"
   ]
  },
  {
   "cell_type": "code",
   "execution_count": 4,
   "metadata": {
    "collapsed": false
   },
   "outputs": [
    {
     "data": {
      "text/plain": [
       "hit"
      ]
     },
     "execution_count": 4,
     "metadata": {},
     "output_type": "execute_result"
    }
   ],
   "source": [
    "get_head_of_sentence(\"She hit the wall.\")"
   ]
  },
  {
   "cell_type": "code",
   "execution_count": null,
   "metadata": {
    "collapsed": true
   },
   "outputs": [],
   "source": [
    "# Exercise: visualize some of your favorite sentences."
   ]
  }
 ],
 "metadata": {
  "kernelspec": {
   "display_name": "Python 3",
   "language": "python",
   "name": "python3"
  },
  "language_info": {
   "codemirror_mode": {
    "name": "ipython",
    "version": 3
   },
   "file_extension": ".py",
   "mimetype": "text/x-python",
   "name": "python",
   "nbconvert_exporter": "python",
   "pygments_lexer": "ipython3",
   "version": "3.5.2"
  }
 },
 "nbformat": 4,
 "nbformat_minor": 1
}
