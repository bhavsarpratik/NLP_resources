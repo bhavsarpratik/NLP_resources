{
 "cells": [
  {
   "cell_type": "markdown",
   "metadata": {},
   "source": [
    "## Training word vectors in Gensim\n",
    "https://radimrehurek.com/gensim/models/word2vec.html\n",
    "\n",
    "## Gensim on Github\n",
    "https://github.com/RaRe-Technologies/gensim\n",
    "\n",
    "## word2vec on Gensim on Github\n",
    "https://github.com/RaRe-Technologies/gensim/blob/develop/gensim/models/word2vec.py\n",
    "\n",
    "## Also\n",
    "https://rare-technologies.com/deep-learning-with-word2vec-and-gensim/"
   ]
  },
  {
   "cell_type": "code",
   "execution_count": 1,
   "metadata": {
    "collapsed": true
   },
   "outputs": [],
   "source": [
    "# Create some raw documents\n",
    "raw_documents = ['I love tacos.',\n",
    "             'She ran with the chicken.',\n",
    "             'I don’t choose to take a nap. The nap chooses me.',\n",
    "            'That man is nice as pie with ice cream.',\n",
    "            'This pizza is an affront to nature.']\n",
    "from nltk.tokenize import word_tokenize\n",
    "def get_tokens(text):\n",
    "    tokens = word_tokenize(text)\n",
    "    return tokens"
   ]
  },
  {
   "cell_type": "code",
   "execution_count": 2,
   "metadata": {
    "collapsed": false
   },
   "outputs": [
    {
     "name": "stderr",
     "output_type": "stream",
     "text": [
      "/Library/Frameworks/Python.framework/Versions/3.5/lib/python3.5/site-packages/gensim/utils.py:1015: UserWarning: Pattern library is not installed, lemmatization won't be available.\n",
      "  warnings.warn(\"Pattern library is not installed, lemmatization won't be available.\")\n"
     ]
    },
    {
     "name": "stdout",
     "output_type": "stream",
     "text": [
      "[-0.08233323 -0.06830415 -0.01001786  0.0555655  -0.00198256]\n",
      "[ 0.04440577 -0.09361976 -0.07637561  0.01410124 -0.04199225]\n",
      "[ 0.0774129   0.02489747  0.05281512 -0.07839555  0.08457994]\n"
     ]
    }
   ],
   "source": [
    "import gensim\n",
    "sentences  = [get_tokens(r) for r in raw_documents]\n",
    "model = gensim.models.word2vec.Word2Vec(sentences,min_count=1,size=5)\n",
    "print(model['ran'])\n",
    "print(model['love'])\n",
    "print(model['tacos'])"
   ]
  },
  {
   "cell_type": "code",
   "execution_count": 3,
   "metadata": {
    "collapsed": false
   },
   "outputs": [
    {
     "data": {
      "text/plain": [
       "['with', 'tacos', 'man', 'pizza', 'ice', 'That', 'take', 'The', 'nap', 'This']"
      ]
     },
     "execution_count": 3,
     "metadata": {},
     "output_type": "execute_result"
    }
   ],
   "source": [
    "vocab = list(model.vocab.keys())\n",
    "vocab[:10]"
   ]
  },
  {
   "cell_type": "code",
   "execution_count": 4,
   "metadata": {
    "collapsed": false
   },
   "outputs": [
    {
     "data": {
      "text/plain": [
       "[('chicken', 0.8110033273696899),\n",
       " ('is', 0.6826239824295044),\n",
       " ('nature', 0.607844352722168),\n",
       " ('choose', 0.5738837718963623),\n",
       " ('an', 0.5073656439781189),\n",
       " ('affront', 0.39505720138549805),\n",
       " ('The', 0.15771405398845673),\n",
       " ('a', 0.12146198749542236),\n",
       " ('.', 0.12046509981155396),\n",
       " ('This', 0.09019875526428223)]"
      ]
     },
     "execution_count": 4,
     "metadata": {},
     "output_type": "execute_result"
    }
   ],
   "source": [
    "model.most_similar('tacos')"
   ]
  },
  {
   "cell_type": "code",
   "execution_count": 5,
   "metadata": {
    "collapsed": true
   },
   "outputs": [],
   "source": [
    "# Make sure you are using C underneath\n",
    "assert gensim.models.doc2vec.FAST_VERSION > -1"
   ]
  },
  {
   "cell_type": "code",
   "execution_count": 6,
   "metadata": {
    "collapsed": false
   },
   "outputs": [
    {
     "data": {
      "text/plain": [
       "['DESCR', 'data', 'description', 'filenames', 'target', 'target_names']"
      ]
     },
     "execution_count": 6,
     "metadata": {},
     "output_type": "execute_result"
    }
   ],
   "source": [
    "# http://scikit-learn.org/stable/datasets/twenty_newsgroups.html#newsgroups\n",
    "from sklearn.datasets import fetch_20newsgroups\n",
    "texts = fetch_20newsgroups(subset='train')\n",
    "dir(texts)"
   ]
  },
  {
   "cell_type": "code",
   "execution_count": 7,
   "metadata": {
    "collapsed": false
   },
   "outputs": [
    {
     "name": "stdout",
     "output_type": "stream",
     "text": [
      "[ '/Users/jmugan/scikit_learn_data/20news_home/20news-bydate-train/rec.autos/102994'\n",
      " '/Users/jmugan/scikit_learn_data/20news_home/20news-bydate-train/comp.sys.mac.hardware/51861'\n",
      " '/Users/jmugan/scikit_learn_data/20news_home/20news-bydate-train/comp.sys.mac.hardware/51879'\n",
      " ...,\n",
      " '/Users/jmugan/scikit_learn_data/20news_home/20news-bydate-train/comp.sys.ibm.pc.hardware/60695'\n",
      " '/Users/jmugan/scikit_learn_data/20news_home/20news-bydate-train/comp.graphics/38319'\n",
      " '/Users/jmugan/scikit_learn_data/20news_home/20news-bydate-train/rec.motorcycles/104440']\n"
     ]
    }
   ],
   "source": [
    "print (texts.filenames)"
   ]
  },
  {
   "cell_type": "code",
   "execution_count": 8,
   "metadata": {
    "collapsed": false
   },
   "outputs": [
    {
     "name": "stdout",
     "output_type": "stream",
     "text": [
      "11314\n",
      "[7 4 4 ..., 3 1 8]\n",
      "['alt.atheism', 'comp.graphics', 'comp.os.ms-windows.misc', 'comp.sys.ibm.pc.hardware', 'comp.sys.mac.hardware', 'comp.windows.x', 'misc.forsale', 'rec.autos', 'rec.motorcycles', 'rec.sport.baseball', 'rec.sport.hockey', 'sci.crypt', 'sci.electronics', 'sci.med', 'sci.space', 'soc.religion.christian', 'talk.politics.guns', 'talk.politics.mideast', 'talk.politics.misc', 'talk.religion.misc']\n"
     ]
    }
   ],
   "source": [
    "# 11,314 posts\n",
    "print(len(texts.target))\n",
    "print(texts.target)\n",
    "print(texts.target_names)"
   ]
  },
  {
   "cell_type": "code",
   "execution_count": 9,
   "metadata": {
    "collapsed": false
   },
   "outputs": [
    {
     "data": {
      "text/plain": [
       "11314"
      ]
     },
     "execution_count": 9,
     "metadata": {},
     "output_type": "execute_result"
    }
   ],
   "source": [
    "data = texts.data\n",
    "len(data)"
   ]
  },
  {
   "cell_type": "code",
   "execution_count": 10,
   "metadata": {
    "collapsed": false
   },
   "outputs": [
    {
     "data": {
      "text/plain": [
       "\"From: lerxst@wam.umd.edu (where's my thing)\\nSubject: WHAT car is this!?\\nNntp-Posting-Host: rac3.wam.umd.edu\\nOrganization: University of Maryland, College Park\\nLines: 15\\n\\n I was wondering if anyone out there could enlighten me on this car I saw\\nthe other day. It was a 2-door sports car, looked to be from the late 60s/\\nearly 70s. It was called a Bricklin. The doors were really small. In addition,\\nthe front bumper was separate from the rest of the body. This is \\nall I know. If anyone can tellme a model name, engine specs, years\\nof production, where this car is made, history, or whatever info you\\nhave on this funky looking car, please e-mail.\\n\\nThanks,\\n- IL\\n   ---- brought to you by your neighborhood Lerxst ----\\n\\n\\n\\n\\n\""
      ]
     },
     "execution_count": 10,
     "metadata": {},
     "output_type": "execute_result"
    }
   ],
   "source": [
    "data[0]"
   ]
  },
  {
   "cell_type": "code",
   "execution_count": 11,
   "metadata": {
    "collapsed": false
   },
   "outputs": [
    {
     "name": "stdout",
     "output_type": "stream",
     "text": [
      "['from', ':', 'lerxst', '@', 'wam.umd.edu', '(', 'where', \"'s\", 'my', 'thing', ')', 'subject', ':', 'what', 'car', 'is', 'this', '!', '?', 'nntp-posting-host', ':', 'rac3.wam.umd.edu', 'organization', ':', 'university', 'of', 'maryland', ',', 'college', 'park', 'lines', ':', '15', 'i', 'was', 'wondering', 'if', 'anyone', 'out', 'there', 'could', 'enlighten', 'me', 'on', 'this', 'car', 'i', 'saw', 'the', 'other', 'day', '.', 'it', 'was', 'a', '2-door', 'sports', 'car', ',', 'looked', 'to', 'be', 'from', 'the', 'late', '60s/', 'early', '70s', '.', 'it', 'was', 'called', 'a', 'bricklin', '.', 'the', 'doors', 'were', 'really', 'small', '.', 'in', 'addition', ',', 'the', 'front', 'bumper', 'was', 'separate', 'from', 'the', 'rest', 'of', 'the', 'body', '.', 'this', 'is', 'all', 'i', 'know', '.', 'if', 'anyone', 'can', 'tellme', 'a', 'model', 'name', ',', 'engine', 'specs', ',', 'years', 'of', 'production', ',', 'where', 'this', 'car', 'is', 'made', ',', 'history', ',', 'or', 'whatever', 'info', 'you', 'have', 'on', 'this', 'funky', 'looking', 'car', ',', 'please', 'e-mail', '.', 'thanks', ',', '-', 'il', '--', '--', 'brought', 'to', 'you', 'by', 'your', 'neighborhood', 'lerxst', '--', '--']\n"
     ]
    }
   ],
   "source": [
    "def get_tokens(text):\n",
    "    tokens = word_tokenize(text)\n",
    "    return [token.lower() for token in tokens]\n",
    "print(get_tokens(data[0]))"
   ]
  },
  {
   "cell_type": "code",
   "execution_count": 12,
   "metadata": {
    "collapsed": false
   },
   "outputs": [
    {
     "name": "stdout",
     "output_type": "stream",
     "text": [
      "['from', ':', 'lerxst', '@', 'wam.umd.edu', '(', 'where', \"'s\", 'my', 'thing', ')', 'subject', ':', 'what', 'car', 'is', 'this', '!', '?', 'nntp-posting-host', ':', 'rac3.wam.umd.edu', 'organization', ':', 'university', 'of', 'maryland', ',', 'college', 'park', 'lines', ':', '15', 'i', 'was', 'wondering', 'if', 'anyone', 'out', 'there', 'could', 'enlighten', 'me', 'on', 'this', 'car', 'i', 'saw', 'the', 'other', 'day', '.', 'it', 'was', 'a', '2-door', 'sports', 'car', ',', 'looked', 'to', 'be', 'from', 'the', 'late', '60s/', 'early', '70s', '.', 'it', 'was', 'called', 'a', 'bricklin', '.', 'the', 'doors', 'were', 'really', 'small', '.', 'in', 'addition', ',', 'the', 'front', 'bumper', 'was', 'separate', 'from', 'the', 'rest', 'of', 'the', 'body', '.', 'this', 'is', 'all', 'i', 'know', '.', 'if', 'anyone', 'can', 'tellme', 'a', 'model', 'name', ',', 'engine', 'specs', ',', 'years', 'of', 'production', ',', 'where', 'this', 'car', 'is', 'made', ',', 'history', ',', 'or', 'whatever', 'info', 'you', 'have', 'on', 'this', 'funky', 'looking', 'car', ',', 'please', 'e-mail', '.', 'thanks', ',', '-', 'il', '--', '--', 'brought', 'to', 'you', 'by', 'your', 'neighborhood', 'lerxst', '--', '--']\n"
     ]
    }
   ],
   "source": [
    "# We will treat each document as a sentence\n",
    "sentences = [get_tokens(doc) for doc in data]\n",
    "print(sentences[0])"
   ]
  },
  {
   "cell_type": "code",
   "execution_count": 13,
   "metadata": {
    "collapsed": true
   },
   "outputs": [],
   "source": [
    "model_ng = gensim.models.word2vec.Word2Vec(sentences,min_count=3,size=200)"
   ]
  },
  {
   "cell_type": "code",
   "execution_count": 14,
   "metadata": {
    "collapsed": false
   },
   "outputs": [
    {
     "data": {
      "text/plain": [
       "[('woman', 0.8316221237182617),\n",
       " ('father', 0.7187923789024353),\n",
       " ('christ', 0.7182186245918274),\n",
       " ('god', 0.7141736745834351),\n",
       " ('son', 0.705515444278717),\n",
       " ('jesus', 0.7020677924156189),\n",
       " ('person', 0.7012173533439636),\n",
       " ('lord', 0.6988461017608643),\n",
       " ('child', 0.6978594064712524),\n",
       " ('satan', 0.6909868717193604)]"
      ]
     },
     "execution_count": 14,
     "metadata": {},
     "output_type": "execute_result"
    }
   ],
   "source": [
    "model_ng.most_similar('man')"
   ]
  },
  {
   "cell_type": "code",
   "execution_count": 15,
   "metadata": {
    "collapsed": true
   },
   "outputs": [],
   "source": [
    "# Download and unzip corpus from http://mattmahoney.net/dc/text8.zip\n",
    "sents = gensim.models.word2vec.Text8Corpus('/Users/jmugan/Downloads/text8', max_sentence_length=10000)"
   ]
  },
  {
   "cell_type": "code",
   "execution_count": 16,
   "metadata": {
    "collapsed": false
   },
   "outputs": [],
   "source": [
    "model_t8 = gensim.models.word2vec.Word2Vec(sents,min_count=5,size=200,iter=15)"
   ]
  },
  {
   "cell_type": "code",
   "execution_count": 17,
   "metadata": {
    "collapsed": false
   },
   "outputs": [
    {
     "data": {
      "text/plain": [
       "[('woman', 0.6351103782653809),\n",
       " ('men', 0.526848316192627),\n",
       " ('person', 0.507014274597168),\n",
       " ('girl', 0.4971894919872284),\n",
       " ('boy', 0.492550253868103),\n",
       " ('creature', 0.47789499163627625),\n",
       " ('gentleman', 0.47342896461486816),\n",
       " ('stranger', 0.464810311794281),\n",
       " ('thief', 0.4601999521255493),\n",
       " ('god', 0.4542997479438782)]"
      ]
     },
     "execution_count": 17,
     "metadata": {},
     "output_type": "execute_result"
    }
   ],
   "source": [
    "model_t8.most_similar('man')"
   ]
  },
  {
   "cell_type": "code",
   "execution_count": 18,
   "metadata": {
    "collapsed": false
   },
   "outputs": [
    {
     "data": {
      "text/plain": [
       "[('quiet', 0.5618761777877808),\n",
       " ('lucky', 0.5422603487968445),\n",
       " ('merry', 0.5137842893600464),\n",
       " ('laugh', 0.5086448192596436),\n",
       " ('agony', 0.48725980520248413),\n",
       " ('miserable', 0.4734904170036316),\n",
       " ('awake', 0.4691343605518341),\n",
       " ('sad', 0.4645567834377289),\n",
       " ('hungry', 0.462251216173172),\n",
       " ('angry', 0.45838749408721924)]"
      ]
     },
     "execution_count": 18,
     "metadata": {},
     "output_type": "execute_result"
    }
   ],
   "source": [
    "model_t8.most_similar('happy')"
   ]
  },
  {
   "cell_type": "code",
   "execution_count": 19,
   "metadata": {
    "collapsed": false
   },
   "outputs": [
    {
     "data": {
      "text/plain": [
       "[('queen', 0.6193341016769409),\n",
       " ('isabella', 0.5154644250869751),\n",
       " ('princess', 0.48500490188598633),\n",
       " ('husband', 0.4801233112812042),\n",
       " ('regent', 0.4659966230392456),\n",
       " ('throne', 0.4594484567642212),\n",
       " ('jadwiga', 0.458169549703598),\n",
       " ('matilda', 0.4560677409172058),\n",
       " ('monarch', 0.45564383268356323),\n",
       " ('consort', 0.45116063952445984)]"
      ]
     },
     "execution_count": 19,
     "metadata": {},
     "output_type": "execute_result"
    }
   ],
   "source": [
    "model_t8.most_similar(positive=['woman', 'king'], negative=['man'])"
   ]
  },
  {
   "cell_type": "code",
   "execution_count": 20,
   "metadata": {
    "collapsed": true
   },
   "outputs": [],
   "source": [
    "# Bonus doc2vec\n",
    "# More details here https://github.com/RaRe-Technologies/gensim/blob/develop/docs/notebooks/doc2vec-IMDB.ipynb\n",
    "from gensim.models.doc2vec import TaggedDocument"
   ]
  },
  {
   "cell_type": "code",
   "execution_count": 21,
   "metadata": {
    "collapsed": true
   },
   "outputs": [],
   "source": [
    "# https://radimrehurek.com/gensim/models/doc2vec.html\n",
    "# recall sentences from Newsgroup data\n",
    "sentences = [get_tokens(doc) for doc in texts.data]"
   ]
  },
  {
   "cell_type": "code",
   "execution_count": 22,
   "metadata": {
    "collapsed": true
   },
   "outputs": [],
   "source": [
    "tagged_documents = []\n",
    "for i, sent in enumerate(sentences):\n",
    "    tagged_documents.append(TaggedDocument(sent,[\"sent_{}\".format(i)]))\n",
    "d2v_model = gensim.models.doc2vec.Doc2Vec(tagged_documents, size=300)"
   ]
  },
  {
   "cell_type": "code",
   "execution_count": 23,
   "metadata": {
    "collapsed": false
   },
   "outputs": [
    {
     "data": {
      "text/plain": [
       "[('long', 0.6099879145622253),\n",
       " ('far', 0.5357909798622131),\n",
       " ('slow', 0.5179504156112671),\n",
       " ('risky', 0.5038941502571106),\n",
       " ('well', 0.49702027440071106),\n",
       " ('soon', 0.4968246817588806),\n",
       " ('quickly', 0.49398237466812134),\n",
       " ('quick', 0.48880892992019653),\n",
       " ('busy', 0.4786657691001892),\n",
       " ('much', 0.47404593229293823)]"
      ]
     },
     "execution_count": 23,
     "metadata": {},
     "output_type": "execute_result"
    }
   ],
   "source": [
    "d2v_model.most_similar('fast')"
   ]
  },
  {
   "cell_type": "code",
   "execution_count": 24,
   "metadata": {
    "collapsed": false
   },
   "outputs": [
    {
     "name": "stdout",
     "output_type": "stream",
     "text": [
      "[ -2.98566967e-02  -4.36381325e-02  -2.15346087e-02   1.03564030e-02\n",
      "  -3.18286829e-02   1.97017882e-02  -4.06667445e-04   1.83063131e-02\n",
      "  -2.96763089e-02   1.85645334e-02   2.87281927e-02  -1.09502999e-02\n",
      "  -9.92021640e-04  -2.25025680e-04  -8.00123904e-04   4.98046819e-03\n",
      "  -1.97231490e-02  -9.75857675e-03  -1.12661123e-02   1.80483516e-02\n",
      "  -1.92526332e-03  -2.93154214e-02  -1.05524519e-02   2.79053897e-02\n",
      "   9.89449397e-03   2.19989065e-02  -7.75479572e-03  -1.52771017e-02\n",
      "  -2.49881726e-02   8.98548681e-03  -3.32210734e-02   1.88188087e-02\n",
      "   9.11299046e-03   2.63141338e-02  -1.10818679e-02   8.20602942e-03\n",
      "  -4.14928496e-02   6.96951430e-03  -9.75239370e-03   8.89556541e-04\n",
      "  -1.07758055e-02   6.25817291e-03   1.98161621e-02  -4.36437167e-02\n",
      "  -3.90608311e-02  -5.79272173e-02  -3.22807916e-02   1.80786650e-03\n",
      "   3.50661166e-02  -1.69788506e-02   5.97968101e-05  -9.32477508e-03\n",
      "   6.51244167e-03  -2.59092487e-02  -9.15811770e-03   5.91427600e-03\n",
      "   9.22613144e-02  -1.23681249e-02  -1.53998379e-03  -1.24132549e-02\n",
      "   2.24316376e-03  -5.71153453e-03  -1.84942391e-02  -9.32356901e-03\n",
      "   2.54453570e-02   1.67891535e-03   2.51966566e-02   1.35470205e-03\n",
      "  -2.39844900e-02  -1.82662066e-02  -6.25435961e-03  -3.29104401e-02\n",
      "   2.76260208e-02  -7.26836547e-03  -3.04170903e-02  -1.98459905e-03\n",
      "  -1.97430287e-04   3.14933918e-02   7.62308482e-03   5.47427014e-02\n",
      "  -3.70112509e-02   2.60439850e-02   2.07274836e-02  -2.22547334e-02\n",
      "   6.76074298e-03   3.42868385e-03  -5.20488108e-03  -1.96517967e-02\n",
      "   3.27563696e-02  -3.22083049e-02  -5.38269281e-02   1.54391732e-02\n",
      "   7.31480354e-03   4.41269912e-02  -1.44037586e-02  -8.89960118e-03\n",
      "  -5.86222149e-02   9.62320250e-03   3.10613830e-02  -1.27356099e-02\n",
      "  -1.17617957e-02  -4.27554511e-02  -1.12859476e-02  -1.71039868e-02\n",
      "   9.09748580e-03   1.76598039e-02  -4.10500616e-02  -1.09538138e-02\n",
      "   4.73480299e-03   1.78712439e-02   5.55737468e-04  -1.06812296e-02\n",
      "   2.13744994e-02  -3.66342552e-02   9.93485935e-03  -3.20628509e-02\n",
      "  -2.64546182e-02  -8.73263110e-04  -1.01676052e-02   3.55383456e-02\n",
      "   5.28692501e-03  -1.06775565e-02  -1.43886879e-02  -3.31830792e-02\n",
      "  -4.10952466e-03  -3.12272995e-03  -8.67898855e-03  -5.64782834e-03\n",
      "   5.06720226e-03   8.03692173e-03  -2.92683579e-03   1.07494136e-03\n",
      "  -2.01083478e-02  -2.67151860e-03   2.31168587e-02   2.87916716e-02\n",
      "  -2.13820450e-02  -2.74157319e-02  -2.32249517e-02   2.43914053e-02\n",
      "  -4.41530347e-03   2.66487245e-02   1.39215942e-02  -3.17701735e-02\n",
      "   1.12638506e-03   2.22060755e-02   5.38287824e-03  -6.63897814e-03\n",
      "   5.80665134e-02  -5.38682193e-02   2.86427177e-02   3.50962044e-03\n",
      "  -3.39882355e-03  -1.17821777e-02   2.19735149e-02   9.29738488e-03\n",
      "  -3.41261141e-02  -5.90230748e-02   1.74672436e-02   3.59088765e-04\n",
      "  -4.05110698e-03   1.26313660e-02  -1.80767290e-02   2.07878761e-02\n",
      "   1.98435951e-02  -1.63316056e-02   2.03112722e-03  -2.76052151e-02\n",
      "   4.35541794e-02  -1.41934669e-02  -2.94597764e-02   1.43973613e-02\n",
      "   6.13911189e-02  -2.65211184e-02  -4.04856168e-03   8.09963699e-03\n",
      "   1.96719412e-02   5.06511480e-02   4.13015187e-02  -3.69673073e-02\n",
      "  -1.49182584e-02   1.81357339e-02  -2.30686087e-02  -1.31664798e-02\n",
      "  -2.43258127e-03  -2.51809414e-02   4.27011289e-02   1.09448042e-02\n",
      "   3.28155467e-04   1.12035135e-02  -2.99697965e-02   1.74032990e-02\n",
      "  -1.52156164e-03  -2.75839102e-02   1.32039459e-02   1.60625037e-02\n",
      "   9.12706088e-03   2.50649024e-02  -6.95761368e-02  -1.38941761e-02\n",
      "  -1.64973661e-02   5.41292876e-02   3.16233560e-02  -3.61633450e-02\n",
      "   1.28577827e-02   2.21091844e-02   2.36399639e-02   4.10691882e-03\n",
      "  -4.82265949e-02  -9.39458318e-04   4.64853086e-02   9.58507322e-03\n",
      "  -1.76084787e-02  -1.87847146e-03  -7.33875632e-02   7.40434788e-03\n",
      "  -1.24980053e-02  -6.01936243e-02  -4.94474720e-04   6.83810050e-03\n",
      "   6.87742373e-03  -1.65242478e-02  -7.65048433e-04  -2.60493681e-02\n",
      "  -1.99578553e-02  -2.24993043e-02   2.58080233e-02   3.45378071e-02\n",
      "   2.74307374e-03  -3.87907922e-02   2.41274647e-02   4.00655083e-02\n",
      "  -5.58325239e-02   6.87901452e-02   1.67327281e-02   2.24447995e-02\n",
      "  -2.58339779e-03  -5.57231158e-03   2.47606542e-02   2.19604895e-02\n",
      "  -3.37495059e-02  -2.60497462e-02  -1.11477012e-02  -7.03221699e-03\n",
      "  -9.93575435e-03  -5.17891832e-02   1.09293815e-02  -1.96785275e-02\n",
      "   3.77771333e-02   1.04178675e-02  -7.51458481e-03  -4.01301645e-02\n",
      "  -9.24966484e-03  -2.13957429e-02  -3.93697526e-03   5.84003190e-03\n",
      "  -3.94366942e-02   3.70467268e-02  -1.02883391e-02  -1.72132179e-02\n",
      "  -2.59059109e-02  -5.51005173e-03   2.95426790e-02  -2.70315502e-02\n",
      "   6.28343178e-03  -1.56007679e-02   2.17458452e-04   6.41753839e-04\n",
      "  -1.05427867e-02   3.56529802e-02  -1.27039328e-02  -1.75285768e-02\n",
      "   2.05930043e-02  -2.12171357e-02  -3.05427574e-02   7.10802060e-03\n",
      "  -2.40819044e-02  -8.11647531e-03  -2.98766606e-02  -1.68159027e-02\n",
      "   2.61979699e-02   4.23061214e-02  -5.99160157e-02   9.21506807e-03\n",
      "  -1.40432483e-02   3.04601365e-03  -3.37469811e-03   1.79775693e-02\n",
      "  -9.40744765e-03   5.48130982e-02  -1.84369646e-02  -1.87293086e-02\n",
      "   1.44846439e-02   1.25699975e-02   8.76457803e-03   2.13797167e-02\n",
      "   3.72812450e-02  -8.18103924e-03   6.10349467e-03  -3.40377130e-02]\n"
     ]
    }
   ],
   "source": [
    "vec0 = d2v_model.infer_vector('i love tacos'.split())\n",
    "print(vec0)"
   ]
  },
  {
   "cell_type": "code",
   "execution_count": 25,
   "metadata": {
    "collapsed": false
   },
   "outputs": [
    {
     "data": {
      "text/plain": [
       "[('sent_9692', 0.370047926902771),\n",
       " ('sent_6653', 0.34805458784103394),\n",
       " ('sent_8179', 0.3007533550262451),\n",
       " ('sent_78', 0.29340916872024536),\n",
       " ('sent_1599', 0.2916225790977478),\n",
       " ('sent_4884', 0.27913421392440796),\n",
       " ('sent_4903', 0.27526798844337463),\n",
       " ('sent_52', 0.2742495536804199),\n",
       " ('sent_7978', 0.2725113332271576),\n",
       " ('sent_568', 0.2688180208206177)]"
      ]
     },
     "execution_count": 25,
     "metadata": {},
     "output_type": "execute_result"
    }
   ],
   "source": [
    "d2v_model.docvecs.most_similar( [ vec0 ] )"
   ]
  },
  {
   "cell_type": "markdown",
   "metadata": {},
   "source": [
    "Exercise: compare doc2vec with the tf-idf method we did in a previous video."
   ]
  }
 ],
 "metadata": {
  "kernelspec": {
   "display_name": "Python 3",
   "language": "python",
   "name": "python3"
  },
  "language_info": {
   "codemirror_mode": {
    "name": "ipython",
    "version": 3
   },
   "file_extension": ".py",
   "mimetype": "text/x-python",
   "name": "python",
   "nbconvert_exporter": "python",
   "pygments_lexer": "ipython3",
   "version": "3.5.2"
  }
 },
 "nbformat": 4,
 "nbformat_minor": 1
}
